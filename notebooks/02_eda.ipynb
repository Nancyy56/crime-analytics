{
 "cells": [
  {
   "cell_type": "code",
   "execution_count": 1,
   "id": "6e4511c8-11aa-401c-b4ba-f56bfcf28f9b",
   "metadata": {},
   "outputs": [
    {
     "name": "stderr",
     "output_type": "stream",
     "text": [
      "C:\\Users\\HP\\AppData\\Local\\Temp\\ipykernel_14840\\2085367302.py:7: FutureWarning: 'M' is deprecated and will be removed in a future version, please use 'ME' instead.\n",
      "  monthly = df.resample('M', on='Date').size()\n"
     ]
    },
    {
     "ename": "TypeError",
     "evalue": "Only valid with DatetimeIndex, TimedeltaIndex or PeriodIndex, but got an instance of 'Index'",
     "output_type": "error",
     "traceback": [
      "\u001b[31m---------------------------------------------------------------------------\u001b[39m",
      "\u001b[31mTypeError\u001b[39m                                 Traceback (most recent call last)",
      "\u001b[36mCell\u001b[39m\u001b[36m \u001b[39m\u001b[32mIn[1]\u001b[39m\u001b[32m, line 7\u001b[39m\n\u001b[32m      4\u001b[39m df = pd.read_csv(\u001b[33m'\u001b[39m\u001b[33m../data/processed/crimes_clean.csv\u001b[39m\u001b[33m'\u001b[39m)\n\u001b[32m      6\u001b[39m \u001b[38;5;66;03m# monthly incident counts\u001b[39;00m\n\u001b[32m----> \u001b[39m\u001b[32m7\u001b[39m monthly = \u001b[43mdf\u001b[49m\u001b[43m.\u001b[49m\u001b[43mresample\u001b[49m\u001b[43m(\u001b[49m\u001b[33;43m'\u001b[39;49m\u001b[33;43mM\u001b[39;49m\u001b[33;43m'\u001b[39;49m\u001b[43m,\u001b[49m\u001b[43m \u001b[49m\u001b[43mon\u001b[49m\u001b[43m=\u001b[49m\u001b[33;43m'\u001b[39;49m\u001b[33;43mDate\u001b[39;49m\u001b[33;43m'\u001b[39;49m\u001b[43m)\u001b[49m.size()\n\u001b[32m      9\u001b[39m \u001b[38;5;66;03m# plot\u001b[39;00m\n\u001b[32m     10\u001b[39m plt.figure(figsize=(\u001b[32m8\u001b[39m,\u001b[32m4\u001b[39m))\n",
      "\u001b[36mFile \u001b[39m\u001b[32m~\\crime-analytics\\venv\\Lib\\site-packages\\pandas\\core\\generic.py:9834\u001b[39m, in \u001b[36mNDFrame.resample\u001b[39m\u001b[34m(self, rule, axis, closed, label, convention, kind, on, level, origin, offset, group_keys)\u001b[39m\n\u001b[32m   9831\u001b[39m \u001b[38;5;28;01melse\u001b[39;00m:\n\u001b[32m   9832\u001b[39m     kind = \u001b[38;5;28;01mNone\u001b[39;00m\n\u001b[32m-> \u001b[39m\u001b[32m9834\u001b[39m \u001b[38;5;28;01mreturn\u001b[39;00m \u001b[43mget_resampler\u001b[49m\u001b[43m(\u001b[49m\n\u001b[32m   9835\u001b[39m \u001b[43m    \u001b[49m\u001b[43mcast\u001b[49m\u001b[43m(\u001b[49m\u001b[33;43m\"\u001b[39;49m\u001b[33;43mSeries | DataFrame\u001b[39;49m\u001b[33;43m\"\u001b[39;49m\u001b[43m,\u001b[49m\u001b[43m \u001b[49m\u001b[38;5;28;43mself\u001b[39;49m\u001b[43m)\u001b[49m\u001b[43m,\u001b[49m\n\u001b[32m   9836\u001b[39m \u001b[43m    \u001b[49m\u001b[43mfreq\u001b[49m\u001b[43m=\u001b[49m\u001b[43mrule\u001b[49m\u001b[43m,\u001b[49m\n\u001b[32m   9837\u001b[39m \u001b[43m    \u001b[49m\u001b[43mlabel\u001b[49m\u001b[43m=\u001b[49m\u001b[43mlabel\u001b[49m\u001b[43m,\u001b[49m\n\u001b[32m   9838\u001b[39m \u001b[43m    \u001b[49m\u001b[43mclosed\u001b[49m\u001b[43m=\u001b[49m\u001b[43mclosed\u001b[49m\u001b[43m,\u001b[49m\n\u001b[32m   9839\u001b[39m \u001b[43m    \u001b[49m\u001b[43maxis\u001b[49m\u001b[43m=\u001b[49m\u001b[43maxis\u001b[49m\u001b[43m,\u001b[49m\n\u001b[32m   9840\u001b[39m \u001b[43m    \u001b[49m\u001b[43mkind\u001b[49m\u001b[43m=\u001b[49m\u001b[43mkind\u001b[49m\u001b[43m,\u001b[49m\n\u001b[32m   9841\u001b[39m \u001b[43m    \u001b[49m\u001b[43mconvention\u001b[49m\u001b[43m=\u001b[49m\u001b[43mconvention\u001b[49m\u001b[43m,\u001b[49m\n\u001b[32m   9842\u001b[39m \u001b[43m    \u001b[49m\u001b[43mkey\u001b[49m\u001b[43m=\u001b[49m\u001b[43mon\u001b[49m\u001b[43m,\u001b[49m\n\u001b[32m   9843\u001b[39m \u001b[43m    \u001b[49m\u001b[43mlevel\u001b[49m\u001b[43m=\u001b[49m\u001b[43mlevel\u001b[49m\u001b[43m,\u001b[49m\n\u001b[32m   9844\u001b[39m \u001b[43m    \u001b[49m\u001b[43morigin\u001b[49m\u001b[43m=\u001b[49m\u001b[43morigin\u001b[49m\u001b[43m,\u001b[49m\n\u001b[32m   9845\u001b[39m \u001b[43m    \u001b[49m\u001b[43moffset\u001b[49m\u001b[43m=\u001b[49m\u001b[43moffset\u001b[49m\u001b[43m,\u001b[49m\n\u001b[32m   9846\u001b[39m \u001b[43m    \u001b[49m\u001b[43mgroup_keys\u001b[49m\u001b[43m=\u001b[49m\u001b[43mgroup_keys\u001b[49m\u001b[43m,\u001b[49m\n\u001b[32m   9847\u001b[39m \u001b[43m\u001b[49m\u001b[43m)\u001b[49m\n",
      "\u001b[36mFile \u001b[39m\u001b[32m~\\crime-analytics\\venv\\Lib\\site-packages\\pandas\\core\\resample.py:2044\u001b[39m, in \u001b[36mget_resampler\u001b[39m\u001b[34m(obj, kind, **kwds)\u001b[39m\n\u001b[32m   2040\u001b[39m \u001b[38;5;250m\u001b[39m\u001b[33;03m\"\"\"\u001b[39;00m\n\u001b[32m   2041\u001b[39m \u001b[33;03mCreate a TimeGrouper and return our resampler.\u001b[39;00m\n\u001b[32m   2042\u001b[39m \u001b[33;03m\"\"\"\u001b[39;00m\n\u001b[32m   2043\u001b[39m tg = TimeGrouper(obj, **kwds)  \u001b[38;5;66;03m# type: ignore[arg-type]\u001b[39;00m\n\u001b[32m-> \u001b[39m\u001b[32m2044\u001b[39m \u001b[38;5;28;01mreturn\u001b[39;00m \u001b[43mtg\u001b[49m\u001b[43m.\u001b[49m\u001b[43m_get_resampler\u001b[49m\u001b[43m(\u001b[49m\u001b[43mobj\u001b[49m\u001b[43m,\u001b[49m\u001b[43m \u001b[49m\u001b[43mkind\u001b[49m\u001b[43m=\u001b[49m\u001b[43mkind\u001b[49m\u001b[43m)\u001b[49m\n",
      "\u001b[36mFile \u001b[39m\u001b[32m~\\crime-analytics\\venv\\Lib\\site-packages\\pandas\\core\\resample.py:2258\u001b[39m, in \u001b[36mTimeGrouper._get_resampler\u001b[39m\u001b[34m(self, obj, kind)\u001b[39m\n\u001b[32m   2249\u001b[39m \u001b[38;5;28;01melif\u001b[39;00m \u001b[38;5;28misinstance\u001b[39m(ax, TimedeltaIndex):\n\u001b[32m   2250\u001b[39m     \u001b[38;5;28;01mreturn\u001b[39;00m TimedeltaIndexResampler(\n\u001b[32m   2251\u001b[39m         obj,\n\u001b[32m   2252\u001b[39m         timegrouper=\u001b[38;5;28mself\u001b[39m,\n\u001b[32m   (...)\u001b[39m\u001b[32m   2255\u001b[39m         gpr_index=ax,\n\u001b[32m   2256\u001b[39m     )\n\u001b[32m-> \u001b[39m\u001b[32m2258\u001b[39m \u001b[38;5;28;01mraise\u001b[39;00m \u001b[38;5;167;01mTypeError\u001b[39;00m(\n\u001b[32m   2259\u001b[39m     \u001b[33m\"\u001b[39m\u001b[33mOnly valid with DatetimeIndex, \u001b[39m\u001b[33m\"\u001b[39m\n\u001b[32m   2260\u001b[39m     \u001b[33m\"\u001b[39m\u001b[33mTimedeltaIndex or PeriodIndex, \u001b[39m\u001b[33m\"\u001b[39m\n\u001b[32m   2261\u001b[39m     \u001b[33mf\u001b[39m\u001b[33m\"\u001b[39m\u001b[33mbut got an instance of \u001b[39m\u001b[33m'\u001b[39m\u001b[38;5;132;01m{\u001b[39;00m\u001b[38;5;28mtype\u001b[39m(ax).\u001b[34m__name__\u001b[39m\u001b[38;5;132;01m}\u001b[39;00m\u001b[33m'\u001b[39m\u001b[33m\"\u001b[39m\n\u001b[32m   2262\u001b[39m )\n",
      "\u001b[31mTypeError\u001b[39m: Only valid with DatetimeIndex, TimedeltaIndex or PeriodIndex, but got an instance of 'Index'"
     ]
    }
   ],
   "source": [
    "import pandas as pd, seaborn as sns, matplotlib.pyplot as plt\n",
    "\n",
    "# load cleaned data\n",
    "df = pd.read_csv('../data/processed/crimes_clean.csv')\n",
    "\n",
    "# monthly incident counts\n",
    "monthly = df.resample('M', on='Date').size()\n",
    "\n",
    "# plot\n",
    "plt.figure(figsize=(8,4))\n",
    "sns.lineplot(x=monthly.index, y=monthly.values)\n",
    "plt.title('Monthly Incidents')\n",
    "plt.tight_layout()\n",
    "plt.show()"
   ]
  },
  {
   "cell_type": "code",
   "execution_count": null,
   "id": "e99e7361-64e3-42be-ab58-be5499523f8e",
   "metadata": {},
   "outputs": [],
   "source": []
  }
 ],
 "metadata": {
  "kernelspec": {
   "display_name": "Python 3 (ipykernel)",
   "language": "python",
   "name": "python3"
  },
  "language_info": {
   "codemirror_mode": {
    "name": "ipython",
    "version": 3
   },
   "file_extension": ".py",
   "mimetype": "text/x-python",
   "name": "python",
   "nbconvert_exporter": "python",
   "pygments_lexer": "ipython3",
   "version": "3.13.6"
  }
 },
 "nbformat": 4,
 "nbformat_minor": 5
}
